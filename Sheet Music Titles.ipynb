from bs4 import BeautifulSoup
import requests
url = 'https://mp.weixin.qq.com/s/eVzxtP5dZsLmreDaXq8OOw'
page = requests.get(url)
soup = BeautifulSoup(page.text, 'html')
print(soup)
soup.find_all('section')
soup.find_all('span')
titles = soup.find_all('span')
alltitles = [titles.text.strip() for titles in all_titles]
print(alltitles)
import pandas as pd
df = pd.DataFrame(columns = alltitles)
df
df.to_csv(r'C:\Users\ellen\OneDrive\Desktop\titles')
